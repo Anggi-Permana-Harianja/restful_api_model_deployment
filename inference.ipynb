{
 "cells": [
  {
   "cell_type": "code",
   "execution_count": 8,
   "id": "2c356c98-ca5f-4eca-820b-063dc981af0a",
   "metadata": {},
   "outputs": [],
   "source": [
    "import requests\n",
    "import json"
   ]
  },
  {
   "cell_type": "code",
   "execution_count": 9,
   "id": "0235900f-6316-4d9d-ab91-544ba7fea5f4",
   "metadata": {},
   "outputs": [],
   "source": [
    "api_endpoint = 'http://127.0.0.1:8000/predict/'"
   ]
  },
  {
   "cell_type": "code",
   "execution_count": 15,
   "id": "3bd0a4d2-acda-4b68-b135-748ca9c83f88",
   "metadata": {},
   "outputs": [],
   "source": [
    "''' Predict using JSON format '''\n",
    "data = {\n",
    "  \"sepal_length\": 1,\n",
    "  \"sepal_width\": 1,\n",
    "  \"petal_length\": 1,\n",
    "  \"petal_width\": 1\n",
    "}"
   ]
  },
  {
   "cell_type": "code",
   "execution_count": 16,
   "id": "af9aaa87-213e-4c57-a557-534eb07ad072",
   "metadata": {},
   "outputs": [],
   "source": [
    "response = requests.post(api_endpoint, json=data)"
   ]
  },
  {
   "cell_type": "code",
   "execution_count": 17,
   "id": "dc8598b0-d4b6-4f11-9656-5b5b5626738e",
   "metadata": {},
   "outputs": [
    {
     "name": "stdout",
     "output_type": "stream",
     "text": [
      "{\"prediction\":[1]}\n"
     ]
    }
   ],
   "source": [
    "print(response.text)"
   ]
  },
  {
   "cell_type": "code",
   "execution_count": 94,
   "id": "cfb6828c-31bb-4b56-b7b9-728403aaa462",
   "metadata": {},
   "outputs": [],
   "source": [
    "''' Predict using list '''\n",
    "data = {\n",
    "  \"data\": \n",
    "    [6.8,  2.8,  4.8,  1.4]\n",
    "}"
   ]
  },
  {
   "cell_type": "code",
   "execution_count": 95,
   "id": "d9258ff7-74bf-493c-a18f-3d88d59f7a2b",
   "metadata": {},
   "outputs": [],
   "source": [
    "api_endpoint = 'http://127.0.0.1:8000/predict_list/'"
   ]
  },
  {
   "cell_type": "code",
   "execution_count": 96,
   "id": "fb6c6583-fe57-4117-8c34-721b4cdffd75",
   "metadata": {},
   "outputs": [],
   "source": [
    "response = requests.post(api_endpoint, json=data)"
   ]
  },
  {
   "cell_type": "code",
   "execution_count": 97,
   "id": "c0bec428-7a7d-4c67-9f53-f9699712fb71",
   "metadata": {},
   "outputs": [
    {
     "name": "stdout",
     "output_type": "stream",
     "text": [
      "{\"prediction\":[0]}\n"
     ]
    }
   ],
   "source": [
    "print(response.text)"
   ]
  }
 ],
 "metadata": {
  "kernelspec": {
   "display_name": "Python 3 (ipykernel)",
   "language": "python",
   "name": "python3"
  },
  "language_info": {
   "codemirror_mode": {
    "name": "ipython",
    "version": 3
   },
   "file_extension": ".py",
   "mimetype": "text/x-python",
   "name": "python",
   "nbconvert_exporter": "python",
   "pygments_lexer": "ipython3",
   "version": "3.9.7"
  }
 },
 "nbformat": 4,
 "nbformat_minor": 5
}
